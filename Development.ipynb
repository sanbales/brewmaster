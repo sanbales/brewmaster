{
 "cells": [
  {
   "cell_type": "code",
   "execution_count": 1,
   "metadata": {
    "collapsed": false
   },
   "outputs": [
    {
     "name": "stdout",
     "output_type": "stream",
     "text": [
      "Populating the interactive namespace from numpy and matplotlib\n"
     ]
    }
   ],
   "source": [
    "%pylab inline\n",
    "from random import expovariate, normalvariate\n",
    "from brewmaster.brewery import Brewery"
   ]
  },
  {
   "cell_type": "code",
   "execution_count": 2,
   "metadata": {
    "collapsed": false
   },
   "outputs": [
    {
     "name": "stderr",
     "output_type": "stream",
     "text": [
      "brewmaster\\util.py:153: UserWarning: Creating new environment\n",
      "  warn(\"Creating new environment\")\n"
     ]
    }
   ],
   "source": [
    "brewery = Brewery(random_seed=12344567)"
   ]
  },
  {
   "cell_type": "code",
   "execution_count": 3,
   "metadata": {
    "collapsed": false
   },
   "outputs": [
    {
     "name": "stdout",
     "output_type": "stream",
     "text": [
      "Traceback (most recent call last):\n",
      "  File \"brewmaster\\patron.py\", line 43, in consume\n",
      "    while self.now < self.departure and sum(beers):\n",
      "TypeError: unsupported operand type(s) for +: 'int' and 'NoneType'\n",
      "\n",
      "The above exception was the direct cause of the following exception:\n",
      "\n",
      "Traceback (most recent call last):\n",
      "  File \"brewmaster\\util.py\", line 158, in run\n",
      "    self.env.run(until)\n",
      "  File \"C:\\Python\\Python2\\lib\\site-packages\\simpy\\core.py\", line 137, in run\n",
      "    self.step()\n",
      "  File \"C:\\Python\\Python2\\lib\\site-packages\\simpy\\core.py\", line 229, in step\n",
      "    raise exc\n",
      "TypeError: unsupported operand type(s) for +: 'int' and 'NoneType'\n",
      "\n"
     ]
    },
    {
     "ename": "TypeError",
     "evalue": "unsupported operand type(s) for +: 'int' and 'NoneType'",
     "output_type": "error",
     "traceback": [
      "\u001b[1;31m---------------------------------------------------------------------------\u001b[0m",
      "\u001b[1;31mTypeError\u001b[0m                                 Traceback (most recent call last)",
      "\u001b[1;32m<ipython-input-3-ffd9937b086c>\u001b[0m in \u001b[0;36m<module>\u001b[1;34m()\u001b[0m\n\u001b[1;32m----> 1\u001b[1;33m \u001b[0mbrewery\u001b[0m\u001b[1;33m.\u001b[0m\u001b[0mrun\u001b[0m\u001b[1;33m(\u001b[0m\u001b[1;36m200\u001b[0m\u001b[1;33m)\u001b[0m\u001b[1;33m\u001b[0m\u001b[0m\n\u001b[0m",
      "\u001b[1;32mC:\\sandboxes\\brewmaster\\brewmaster\\util.pyc\u001b[0m in \u001b[0;36mrun\u001b[1;34m(self, until)\u001b[0m\n\u001b[0;32m    164\u001b[0m             \u001b[0mtb_string\u001b[0m\u001b[1;33m.\u001b[0m\u001b[0mclose\u001b[0m\u001b[1;33m(\u001b[0m\u001b[1;33m)\u001b[0m\u001b[1;33m\u001b[0m\u001b[0m\n\u001b[0;32m    165\u001b[0m             \u001b[1;32mprint\u001b[0m\u001b[1;33m(\u001b[0m\u001b[0mself\u001b[0m\u001b[1;33m.\u001b[0m\u001b[0merrors\u001b[0m\u001b[1;33m)\u001b[0m\u001b[1;33m\u001b[0m\u001b[0m\n\u001b[1;32m--> 166\u001b[1;33m             \u001b[1;32mraise\u001b[0m \u001b[0me\u001b[0m\u001b[1;33m\u001b[0m\u001b[0m\n\u001b[0m\u001b[0;32m    167\u001b[0m \u001b[1;33m\u001b[0m\u001b[0m\n\u001b[0;32m    168\u001b[0m \u001b[1;33m\u001b[0m\u001b[0m\n",
      "\u001b[1;31mTypeError\u001b[0m: unsupported operand type(s) for +: 'int' and 'NoneType'"
     ]
    }
   ],
   "source": [
    "brewery.run(200)"
   ]
  },
  {
   "cell_type": "code",
   "execution_count": 5,
   "metadata": {
    "collapsed": false
   },
   "outputs": [
    {
     "data": {
      "text/plain": [
       "['[       0.0] - Could not open on Monday because no beers were on tap',\n",
       " '[       0.0] - trying to restock kegs',\n",
       " '[       0.0] - Waiting for Mash Tun for Bridal Veil Pale Ale',\n",
       " '[       0.0] - Tapped None',\n",
       " '[       1.2] - Released Mash Tun for beer Bridal Veil Pale Ale',\n",
       " '[       1.2] - Starting fermentation for beer Bridal Veil Pale Ale',\n",
       " '[      24.0] - trying to restock kegs',\n",
       " '[      34.0] - Brewery is open on a Tuesday',\n",
       " '[      34.3] - Party of 2 (arrived at 34.3) arrived and waiting to be seated',\n",
       " '[      34.3] - Party of 2 (arrived at 34.3) waiting to order',\n",
       " '[      34.5] - Party of 2 (arrived at 34.3) waiting to pay',\n",
       " '[      34.6] - Party of 2 (arrived at 34.3) leaving',\n",
       " '[      35.7] - Party of 2 (arrived at 35.7) arrived and waiting to be seated',\n",
       " '[      35.7] - Party of 2 (arrived at 35.7) waiting to order',\n",
       " '[      36.0] - A customer in Party of 2 (arrived at 35.7) could not get Bridal Veil Pale Ale nor any other beer']"
      ]
     },
     "execution_count": 5,
     "metadata": {},
     "output_type": "execute_result"
    }
   ],
   "source": [
    "brewery._log"
   ]
  },
  {
   "cell_type": "code",
   "execution_count": 6,
   "metadata": {
    "collapsed": false
   },
   "outputs": [
    {
     "name": "stdout",
     "output_type": "stream",
     "text": [
      "None\n",
      "34.9532506456\n",
      "None 0\n"
     ]
    }
   ],
   "source": [
    "print brewery.errors\n",
    "print brewery.now\n",
    "keg = brewery.tapped_kegs.items[0]\n",
    "print keg.name, keg.amount"
   ]
  },
  {
   "cell_type": "code",
   "execution_count": 7,
   "metadata": {
    "collapsed": false
   },
   "outputs": [
    {
     "name": "stdout",
     "output_type": "stream",
     "text": [
      "Caramel Malt - 20L (Briess) 997.272\n",
      "Carapils (Briess) 996.9\n",
      "Centennial (Whole) [7.70 %] 999.80625\n",
      "Brewers Malt 2-Row (Briess) 945.75\n",
      "Irish Moss 999.98\n",
      "Pearle (Whole) [8.30 %] 999.6125\n",
      "California Ale (White Labs #WLP001) 999.98\n",
      "Liberty (Whole) [4.30 %] 999.6125\n",
      "Liberty (Whole) [4.00 %] 999.6125\n",
      "Caramel Malt - 40L (Briess) 997.272\n"
     ]
    }
   ],
   "source": [
    "for store in brewery.dry_storage:\n",
    "    print store, brewery.dry_storage[store].level"
   ]
  },
  {
   "cell_type": "code",
   "execution_count": 12,
   "metadata": {
    "collapsed": false
   },
   "outputs": [
    {
     "name": "stdout",
     "output_type": "stream",
     "text": [
      "Beers on tap\n",
      "None 0\n",
      "\n",
      "Beers in cellar\n",
      "None 0\n",
      "None 0\n",
      "None 0\n",
      "None 0\n",
      "None 0\n",
      "None 0\n",
      "None 0\n"
     ]
    }
   ],
   "source": [
    "print(\"Beers on tap\")\n",
    "for keg in brewery.tapped_kegs.items:\n",
    "    print keg.name, keg.amount\n",
    "    \n",
    "print(\"\\nBeers in cellar\")\n",
    "for keg in brewery.cellar.items:\n",
    "    print keg.name, keg.amount"
   ]
  }
 ],
 "metadata": {
  "kernelspec": {
   "display_name": "Python 2",
   "language": "python",
   "name": "python2"
  },
  "language_info": {
   "codemirror_mode": {
    "name": "ipython",
    "version": 2
   },
   "file_extension": ".py",
   "mimetype": "text/x-python",
   "name": "python",
   "nbconvert_exporter": "python",
   "pygments_lexer": "ipython2",
   "version": "2.7.10"
  }
 },
 "nbformat": 4,
 "nbformat_minor": 0
}
