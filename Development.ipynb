{
 "cells": [
  {
   "cell_type": "code",
   "execution_count": 1,
   "metadata": {
    "collapsed": false
   },
   "outputs": [
    {
     "name": "stdout",
     "output_type": "stream",
     "text": [
      "Populating the interactive namespace from numpy and matplotlib\n"
     ]
    }
   ],
   "source": [
    "%pylab inline\n",
    "from random import expovariate, normalvariate\n",
    "from brewmaster.model import Brewery"
   ]
  },
  {
   "cell_type": "code",
   "execution_count": 2,
   "metadata": {
    "collapsed": false
   },
   "outputs": [
    {
     "name": "stderr",
     "output_type": "stream",
     "text": [
      "brewmaster\\util.py:141: UserWarning: Creating new environment\n",
      "  warn(\"Creating new environment\")\n"
     ]
    }
   ],
   "source": [
    "brewery = Brewery()"
   ]
  },
  {
   "cell_type": "code",
   "execution_count": 3,
   "metadata": {
    "collapsed": false
   },
   "outputs": [
    {
     "name": "stdout",
     "output_type": "stream",
     "text": [
      "Traceback (most recent call last):\n",
      "  File \"brewmaster\\model.py\", line 285, in brew_beer\n",
      "    ingredients[ingredient] = self.dry_storage[ingredient].get(beer[ingredient] * quantity)\n",
      "KeyError: u'California Ale (White Labs #WLP001)'\n",
      "\n",
      "The above exception was the direct cause of the following exception:\n",
      "\n",
      "Traceback (most recent call last):\n",
      "  File \"brewmaster\\model.py\", line 260, in run_brewery\n",
      "    kegs = yield self.process(self.brew_beer(self.beers[beer], kegs))\n",
      "KeyError: u'California Ale (White Labs #WLP001)'\n",
      "\n",
      "The above exception was the direct cause of the following exception:\n",
      "\n",
      "Traceback (most recent call last):\n",
      "  File \"brewmaster\\util.py\", line 146, in run\n",
      "    self.env.run(until)\n",
      "  File \"C:\\Python\\Python2\\lib\\site-packages\\simpy\\core.py\", line 137, in run\n",
      "    self.step()\n",
      "  File \"C:\\Python\\Python2\\lib\\site-packages\\simpy\\core.py\", line 229, in step\n",
      "    raise exc\n",
      "KeyError: u'California Ale (White Labs #WLP001)'\n",
      "\n"
     ]
    },
    {
     "ename": "KeyError",
     "evalue": "u'California Ale (White Labs #WLP001)'",
     "output_type": "error",
     "traceback": [
      "\u001b[1;31m---------------------------------------------------------------------------\u001b[0m",
      "\u001b[1;31mKeyError\u001b[0m                                  Traceback (most recent call last)",
      "\u001b[1;32m<ipython-input-3-ffd9937b086c>\u001b[0m in \u001b[0;36m<module>\u001b[1;34m()\u001b[0m\n\u001b[1;32m----> 1\u001b[1;33m \u001b[0mbrewery\u001b[0m\u001b[1;33m.\u001b[0m\u001b[0mrun\u001b[0m\u001b[1;33m(\u001b[0m\u001b[1;36m200\u001b[0m\u001b[1;33m)\u001b[0m\u001b[1;33m\u001b[0m\u001b[0m\n\u001b[0m",
      "\u001b[1;32mC:\\sandboxes\\brewmaster\\brewmaster\\util.pyc\u001b[0m in \u001b[0;36mrun\u001b[1;34m(self, until)\u001b[0m\n\u001b[0;32m    152\u001b[0m             \u001b[0mtb_string\u001b[0m\u001b[1;33m.\u001b[0m\u001b[0mclose\u001b[0m\u001b[1;33m(\u001b[0m\u001b[1;33m)\u001b[0m\u001b[1;33m\u001b[0m\u001b[0m\n\u001b[0;32m    153\u001b[0m             \u001b[1;32mprint\u001b[0m\u001b[1;33m(\u001b[0m\u001b[0mself\u001b[0m\u001b[1;33m.\u001b[0m\u001b[0merrors\u001b[0m\u001b[1;33m)\u001b[0m\u001b[1;33m\u001b[0m\u001b[0m\n\u001b[1;32m--> 154\u001b[1;33m             \u001b[1;32mraise\u001b[0m \u001b[0me\u001b[0m\u001b[1;33m\u001b[0m\u001b[0m\n\u001b[0m\u001b[0;32m    155\u001b[0m \u001b[1;33m\u001b[0m\u001b[0m\n\u001b[0;32m    156\u001b[0m \u001b[1;33m\u001b[0m\u001b[0m\n",
      "\u001b[1;31mKeyError\u001b[0m: u'California Ale (White Labs #WLP001)'"
     ]
    }
   ],
   "source": [
    "brewery.run(200)"
   ]
  },
  {
   "cell_type": "code",
   "execution_count": 5,
   "metadata": {
    "collapsed": false
   },
   "outputs": [
    {
     "data": {
      "text/plain": [
       "<simpy.resources.container.Container at 0xa340d30>"
      ]
     },
     "execution_count": 5,
     "metadata": {},
     "output_type": "execute_result"
    }
   ],
   "source": [
    "brewery.dry_storage[u'California Ale (White Labs #WLP001)']"
   ]
  },
  {
   "cell_type": "code",
   "execution_count": 8,
   "metadata": {
    "collapsed": false
   },
   "outputs": [
    {
     "name": "stdout",
     "output_type": "stream",
     "text": [
      "Traceback (most recent call last):\n",
      "  File \"brewmaster\\model.py\", line 275, in brew_beer\n",
      "    ingredients[ingredient] = self.dry_storage[ingredient].get(beer[ingredient] * quantity)\n",
      "KeyError: u'California Ale (White Labs #WLP001)'\n",
      "\n",
      "The above exception was the direct cause of the following exception:\n",
      "\n",
      "Traceback (most recent call last):\n",
      "  File \"brewmaster\\model.py\", line 259, in run_brewery\n",
      "    yield self.process(self.brew_beer(self.beers[beer], kegs))\n",
      "KeyError: u'California Ale (White Labs #WLP001)'\n",
      "\n",
      "The above exception was the direct cause of the following exception:\n",
      "\n",
      "Traceback (most recent call last):\n",
      "  File \"brewmaster\\util.py\", line 146, in run\n",
      "    self.env.run(until)\n",
      "  File \"C:\\Python\\Python2\\lib\\site-packages\\simpy\\core.py\", line 137, in run\n",
      "    self.step()\n",
      "  File \"C:\\Python\\Python2\\lib\\site-packages\\simpy\\core.py\", line 229, in step\n",
      "    raise exc\n",
      "KeyError: u'California Ale (White Labs #WLP001)'\n",
      "\n",
      "0\n",
      "[]\n"
     ]
    }
   ],
   "source": [
    "print brewery.errors\n",
    "print brewery.now\n",
    "print brewery.tapped_kegs.items"
   ]
  },
  {
   "cell_type": "code",
   "execution_count": 7,
   "metadata": {
    "collapsed": false
   },
   "outputs": [
    {
     "name": "stdout",
     "output_type": "stream",
     "text": [
      " Caramel Malt - 20L (Briess) 0\n",
      "Carapils (Briess) 0\n",
      "Centennial (Whole) [7.70 %] 0\n",
      "Brewers Malt 2-Row (Briess) 0\n",
      "Irish Moss 0\n",
      "Pearle (Whole) [8.30 %] 0\n",
      "California Ale (White Labs #WLP001) 0\n",
      "Liberty (Whole) [4.30 %] 0\n",
      "Liberty (Whole) [4.00 %] 0\n",
      "Caramel Malt - 40L (Briess) 0\n"
     ]
    }
   ],
   "source": [
    "for store in brewery.dry_storage:\n",
    "    print store, brewery.dry_storage[store].level"
   ]
  }
 ],
 "metadata": {
  "kernelspec": {
   "display_name": "Python 2",
   "language": "python",
   "name": "python2"
  },
  "language_info": {
   "codemirror_mode": {
    "name": "ipython",
    "version": 2
   },
   "file_extension": ".py",
   "mimetype": "text/x-python",
   "name": "python",
   "nbconvert_exporter": "python",
   "pygments_lexer": "ipython2",
   "version": "2.7.10"
  }
 },
 "nbformat": 4,
 "nbformat_minor": 0
}
