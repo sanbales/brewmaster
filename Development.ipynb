{
 "cells": [
  {
   "cell_type": "code",
   "execution_count": 1,
   "metadata": {
    "collapsed": false
   },
   "outputs": [
    {
     "name": "stdout",
     "output_type": "stream",
     "text": [
      "Populating the interactive namespace from numpy and matplotlib\n"
     ]
    }
   ],
   "source": [
    "%pylab inline\n",
    "from random import expovariate, normalvariate\n",
    "from brewmaster.model import Brewery"
   ]
  },
  {
   "cell_type": "code",
   "execution_count": 2,
   "metadata": {
    "collapsed": false
   },
   "outputs": [
    {
     "name": "stderr",
     "output_type": "stream",
     "text": [
      "brewmaster\\util.py:151: UserWarning: Creating new environment\n",
      "  warn(\"Creating new environment\")\n"
     ]
    }
   ],
   "source": [
    "brewery = Brewery()"
   ]
  },
  {
   "cell_type": "code",
   "execution_count": 3,
   "metadata": {
    "collapsed": false
   },
   "outputs": [],
   "source": [
    "brewery.run(200)"
   ]
  },
  {
   "cell_type": "code",
   "execution_count": 4,
   "metadata": {
    "collapsed": false
   },
   "outputs": [
    {
     "data": {
      "text/plain": [
       "<simpy.resources.container.Container at 0xa311f98>"
      ]
     },
     "execution_count": 4,
     "metadata": {},
     "output_type": "execute_result"
    }
   ],
   "source": [
    "brewery.dry_storage[u'California Ale (White Labs #WLP001)']"
   ]
  },
  {
   "cell_type": "code",
   "execution_count": 5,
   "metadata": {
    "collapsed": false
   },
   "outputs": [
    {
     "name": "stdout",
     "output_type": "stream",
     "text": [
      "None\n",
      "200.0\n",
      "[]\n"
     ]
    }
   ],
   "source": [
    "print brewery.errors\n",
    "print brewery.now\n",
    "print brewery.tapped_kegs.items"
   ]
  },
  {
   "cell_type": "code",
   "execution_count": 6,
   "metadata": {
    "collapsed": false
   },
   "outputs": [
    {
     "name": "stdout",
     "output_type": "stream",
     "text": [
      "Caramel Malt - 20L (Briess) 994.544\n",
      "Carapils (Briess) 993.8\n",
      "Centennial (Whole) [7.70 %] 999.6125\n",
      "Brewers Malt 2-Row (Briess) 891.5\n",
      "Irish Moss 999.96\n",
      "Pearle (Whole) [8.30 %] 999.225\n",
      "California Ale (White Labs #WLP001) 999.96\n",
      "Liberty (Whole) [4.30 %] 999.225\n",
      "Liberty (Whole) [4.00 %] 999.225\n",
      "Caramel Malt - 40L (Briess) 994.544\n"
     ]
    }
   ],
   "source": [
    "for store in brewery.dry_storage:\n",
    "    print store, brewery.dry_storage[store].level"
   ]
  },
  {
   "cell_type": "code",
   "execution_count": 7,
   "metadata": {
    "collapsed": false
   },
   "outputs": [
    {
     "name": "stdout",
     "output_type": "stream",
     "text": [
      "None 0\n",
      "None 0\n",
      "None 0\n",
      "None 0\n",
      "None 0\n",
      "None 0\n",
      "Bridal Veil Pale Ale 124\n",
      "Bridal Veil Pale Ale 124\n"
     ]
    }
   ],
   "source": [
    "for keg in brewery.cellar.items:\n",
    "    print keg.name, keg.amount"
   ]
  },
  {
   "cell_type": "code",
   "execution_count": 8,
   "metadata": {
    "collapsed": false
   },
   "outputs": [
    {
     "data": {
      "text/plain": [
       "['[       1.2] - Released Mash Tun for beer Bridal Veil Pale Ale',\n",
       " '[       1.2] - Starting fermentation for beer Bridal Veil Pale Ale',\n",
       " '[      82.8] - Finished fermentation for beer Bridal Veil Pale Ale',\n",
       " '[      82.8] - Starting conditioning for beer Bridal Veil Pale Ale',\n",
       " '[      82.8] - Finished conditioning for beer Bridal Veil Pale Ale',\n",
       " '[      85.0] - Released Mash Tun for beer Bridal Veil Pale Ale',\n",
       " '[      85.0] - Starting fermentation for beer Bridal Veil Pale Ale',\n",
       " '[     164.2] - Finished fermentation for beer Bridal Veil Pale Ale',\n",
       " '[     164.2] - Starting conditioning for beer Bridal Veil Pale Ale']"
      ]
     },
     "execution_count": 8,
     "metadata": {},
     "output_type": "execute_result"
    }
   ],
   "source": [
    "brewery._log"
   ]
  }
 ],
 "metadata": {
  "kernelspec": {
   "display_name": "Python 2",
   "language": "python",
   "name": "python2"
  },
  "language_info": {
   "codemirror_mode": {
    "name": "ipython",
    "version": 2
   },
   "file_extension": ".py",
   "mimetype": "text/x-python",
   "name": "python",
   "nbconvert_exporter": "python",
   "pygments_lexer": "ipython2",
   "version": "2.7.10"
  }
 },
 "nbformat": 4,
 "nbformat_minor": 0
}
